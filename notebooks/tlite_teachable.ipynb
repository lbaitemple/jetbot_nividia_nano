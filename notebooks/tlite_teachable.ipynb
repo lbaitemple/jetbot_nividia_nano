{
 "cells": [
  {
   "cell_type": "code",
   "execution_count": 1,
   "id": "362825ff-bf28-4c34-b394-1703eea09070",
   "metadata": {},
   "outputs": [],
   "source": [
    "import traitlets\n",
    "import ipywidgets.widgets as widgets\n",
    "from IPython.display import display\n",
    "from jetbot import Camera, bgr8_to_jpeg\n",
    "\n",
    "camera = Camera.instance(width=224, height=224, usb=0)\n",
    "\n",
    "image = widgets.Image(format='jpeg', width=400, height=400)  # this width and height doesn't necessarily have to match the camera\n",
    "\n",
    "camera_link = traitlets.dlink((camera, 'value'), (image, 'value'), transform=bgr8_to_jpeg)\n",
    "classfication_result_image = widgets.Textarea(\n",
    "            value=u'Result:=',\n",
    "            description=u'Classifcation',\n",
    "            disabled=False)\n",
    "\n"
   ]
  },
  {
   "cell_type": "code",
   "execution_count": 2,
   "id": "3c7fc799-e4e1-4117-b070-00b461b0b75c",
   "metadata": {},
   "outputs": [],
   "source": [
    "import cv2\n",
    "import numpy as np\n",
    "\n",
    "\n",
    "def preprocess(camera_value):\n",
    "    x = camera_value\n",
    "    x = cv2.resize(x, (224, 224))\n",
    "    x = cv2.cvtColor(x, cv2.COLOR_BGR2RGB)\n",
    "    x = np.asarray(x)\n",
    "    x = (x.astype(np.float32) / 127.0) - 1\n",
    "    return x"
   ]
  },
  {
   "cell_type": "code",
   "execution_count": 3,
   "id": "69baa67d-b380-4449-9731-85cbbb9f8f77",
   "metadata": {},
   "outputs": [],
   "source": [
    "import tflite_runtime.interpreter as tflite     #引入tflite模組\n",
    "\n",
    "interpreter = tflite.Interpreter(model_path='model_unquant.tflite')\n",
    "\n",
    "input_details = interpreter.get_input_details()\n",
    "output_details = interpreter.get_output_details()\n",
    "\n",
    "input_shape = input_details[0]['shape']"
   ]
  },
  {
   "cell_type": "code",
   "execution_count": 4,
   "id": "a27b38ff-3a59-483b-ab6f-92ef6375d493",
   "metadata": {},
   "outputs": [],
   "source": [
    "import numpy as np\n",
    "data, target = np.array_split(np.loadtxt('labels.txt', dtype=str), [-1], axis=1)\n",
    "\n",
    "label=target.flatten().tolist()"
   ]
  },
  {
   "cell_type": "code",
   "execution_count": 5,
   "id": "af7b7026-ab02-4e74-ab2a-029b9b08ef58",
   "metadata": {},
   "outputs": [
    {
     "data": {
      "application/vnd.jupyter.widget-view+json": {
       "model_id": "e6ebc5d94d604a538435b2ec579eb4ce",
       "version_major": 2,
       "version_minor": 0
      },
      "text/plain": [
       "VBox(children=(HBox(children=(Image(value=b'\\xff\\xd8\\xff\\xe0\\x00\\x10JFIF\\x00\\x01\\x01\\x00\\x00\\x01\\x00\\x01\\x00\\x…"
      ]
     },
     "metadata": {},
     "output_type": "display_data"
    }
   ],
   "source": [
    "display(widgets.VBox([\n",
    "    widgets.HBox([image, classfication_result_image]),\n",
    "]))"
   ]
  },
  {
   "cell_type": "code",
   "execution_count": 6,
   "id": "7db10a2a-4720-4e7c-9703-5894edc4b184",
   "metadata": {},
   "outputs": [],
   "source": [
    "def execute(change):\n",
    "    image = change['new']\n",
    "    classfication_result_image.value = ' '\n",
    "    interpreter.allocate_tensors()\n",
    "    input_tensor= np.expand_dims(preprocess(camera.value),0)\n",
    "    input_index = interpreter.get_input_details()[0][\"index\"]\n",
    "    interpreter.set_tensor(input_index, input_tensor)\n",
    "    interpreter.invoke()\n",
    "    output_details = interpreter.get_output_details()\n",
    "    output_data = interpreter.get_tensor(output_details[0]['index'])\n",
    "    prediction = np.squeeze(output_data)\n",
    "    a=prediction.argmax(0)\n",
    "    classfication_result_image.value = label[a]\n",
    "    \n",
    "mask = execute({'new': camera.value})\n",
    "camera.observe(execute, names='value')"
   ]
  },
  {
   "cell_type": "code",
   "execution_count": null,
   "id": "6d3e3c22-9bee-42cc-988c-4ce2196e0b78",
   "metadata": {},
   "outputs": [],
   "source": [
    "camera.stop()"
   ]
  },
  {
   "cell_type": "code",
   "execution_count": null,
   "id": "4b17447e-042d-4908-adb8-c6caed0ba872",
   "metadata": {},
   "outputs": [],
   "source": []
  }
 ],
 "metadata": {
  "kernelspec": {
   "display_name": "Python 3",
   "language": "python",
   "name": "python3"
  },
  "language_info": {
   "codemirror_mode": {
    "name": "ipython",
    "version": 3
   },
   "file_extension": ".py",
   "mimetype": "text/x-python",
   "name": "python",
   "nbconvert_exporter": "python",
   "pygments_lexer": "ipython3",
   "version": "3.6.9"
  }
 },
 "nbformat": 4,
 "nbformat_minor": 5
}
