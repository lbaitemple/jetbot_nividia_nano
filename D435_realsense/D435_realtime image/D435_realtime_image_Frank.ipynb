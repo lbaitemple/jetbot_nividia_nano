{
 "cells": [
  {
   "cell_type": "code",
   "execution_count": null,
   "id": "30f1a9ce-82e1-4d4b-be1e-4c4e8e88d0fd",
   "metadata": {},
   "outputs": [],
   "source": [
    "#using intel D435 realsense to display images\n",
    "#output: [depthframe_image, colorframe_image]\n",
    "#last updated: 11/010/2021\n",
    "#rewrite codes and refer to quick_start_live.ipynb"
   ]
  },
  {
   "cell_type": "code",
   "execution_count": null,
   "id": "3912e3ad-e477-44d6-b173-00def0054865",
   "metadata": {},
   "outputs": [],
   "source": [
    "#setup environment\n",
    "import pyrealsense2.pyrealsense2 as rs    # Intel RealSense cross-platform open-source API\n",
    "import os\n",
    "import numpy as np                        # Fundamental package for scientific computing\n",
    "print(\"Environment is Ready\")"
   ]
  },
  {
   "cell_type": "code",
   "execution_count": null,
   "id": "45d09e2c-19a1-480b-84d4-e532d72b0879",
   "metadata": {},
   "outputs": [],
   "source": [
    "#create a pineline for streaming and processing frames, abstracting camera configurations\n",
    "pipe = rs.pipeline()                      # Create a pipeline\n",
    "cfg = rs.config()                         # Create a default configuration\n",
    "print(\"Pipeline is created\")"
   ]
  },
  {
   "cell_type": "code",
   "execution_count": null,
   "id": "bcdcf893-44d0-413a-840d-7e5231eda168",
   "metadata": {},
   "outputs": [],
   "source": [
    "#Find RealSense Devices\n",
    "print(\"Searching Devices..\")\n",
    "selected_devices = []                     # Store connected device(s)\n",
    "for d in rs.context().devices:\n",
    "    selected_devices.append(d)\n",
    "    print(d.get_info(rs.camera_info.name))\n",
    "if not selected_devices:\n",
    "    print(\"No RealSense device is connected!\")"
   ]
  },
  {
   "cell_type": "code",
   "execution_count": null,
   "id": "c18194b7-9412-40fa-ab9c-9d34d5ac4906",
   "metadata": {},
   "outputs": [],
   "source": [
    "#Find Depth and RGB Sensors\n",
    "rgb_sensor = depth_sensor = None\n",
    "for device in selected_devices:                         \n",
    "    print(\"Required sensors for device:\", device.get_info(rs.camera_info.name))\n",
    "    for s in device.sensors:                              # Show available sensors in each device\n",
    "        if s.get_info(rs.camera_info.name) == 'RGB Camera':\n",
    "            print(\" - RGB sensor found\")\n",
    "            rgb_sensor = s                                # Set RGB sensor\n",
    "        if s.get_info(rs.camera_info.name) == 'Stereo Module':\n",
    "            depth_sensor = s                              # Set Depth sensor\n",
    "            print(\" - Depth sensor found\")"
   ]
  },
  {
   "cell_type": "code",
   "execution_count": null,
   "id": "45921718-d547-43c3-a007-890ced7e5a04",
   "metadata": {},
   "outputs": [],
   "source": [
    "#Displaying Depth and Color Frames\n",
    "colorizer = rs.colorizer()                                # Mapping depth data into RGB color space\n",
    "profile = pipe.start(cfg)                                 # Configure and start the pipeline\n",
    "import cv2\n",
    "\n",
    "while True:\n",
    "\n",
    "    frameset = pipe.wait_for_frames()                     # Read frames from the file, packaged as a frameset\n",
    "    depth_frame = frameset.get_depth_frame()              # Get depth frame\n",
    "    color_frame = frameset.get_color_frame()              # Get RGB frame\n",
    "    colorized_streams = []                                # This is what we'll actually display\n",
    "\n",
    "    if depth_frame:\n",
    "        colorized_streams.append(np.asanyarray(colorizer.colorize(depth_frame).get_data()))\n",
    "    if color_frame:\n",
    "        colorized_streams.append(np.asanyarray(color_frame.get_data()))\n",
    "\n",
    "    depth_realsense_image.value = bgr8_to_jpeg(colorized_streams[0])\n",
    "    #convert the color array\n",
    "    colorized_streams[1] = cv2.cvtColor(colorized_streams[1], cv2.COLOR_RGB2BGR)\n",
    "    RGB_realsense_image.value = bgr8_to_jpeg(colorized_streams[1])\n",
    "    "
   ]
  },
  {
   "cell_type": "code",
   "execution_count": null,
   "id": "af973102-551e-41e9-bcaa-a2405d9995ea",
   "metadata": {},
   "outputs": [],
   "source": []
  },
  {
   "cell_type": "code",
   "execution_count": null,
   "id": "d3826471-5790-4457-927c-14f94cc80afe",
   "metadata": {},
   "outputs": [],
   "source": [
    "#run it first\n",
    "#import display tool\n",
    "from IPython.display import display\n",
    "import ipywidgets.widgets as widgets\n",
    "from jetbot import bgr8_to_jpeg\n",
    "import traitlets\n",
    "import ipywidgets"
   ]
  },
  {
   "cell_type": "code",
   "execution_count": null,
   "id": "3c816ec1-fa50-42f1-aead-66b04b1a7eb8",
   "metadata": {},
   "outputs": [],
   "source": [
    "#setup the box for display\n",
    "depth_realsense_image = ipywidgets.Image(format='jpeg', width=224, height=224)\n",
    "RGB_realsense_image = ipywidgets.Image(format='jpeg', width=224, height=224)\n",
    "display(widgets.VBox([\n",
    "    widgets.HBox([depth_realsense_image, RGB_realsense_image]),\n",
    "]))"
   ]
  },
  {
   "cell_type": "code",
   "execution_count": null,
   "id": "b5e70ab3-d683-48c4-8b9d-633f0dbd380b",
   "metadata": {},
   "outputs": [],
   "source": []
  }
 ],
 "metadata": {
  "kernelspec": {
   "display_name": "Python 3",
   "language": "python",
   "name": "python3"
  },
  "language_info": {
   "codemirror_mode": {
    "name": "ipython",
    "version": 3
   },
   "file_extension": ".py",
   "mimetype": "text/x-python",
   "name": "python",
   "nbconvert_exporter": "python",
   "pygments_lexer": "ipython3",
   "version": "3.6.9"
  }
 },
 "nbformat": 4,
 "nbformat_minor": 5
}
