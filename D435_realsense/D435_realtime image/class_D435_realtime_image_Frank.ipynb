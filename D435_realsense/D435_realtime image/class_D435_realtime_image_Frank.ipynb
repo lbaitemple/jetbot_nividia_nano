{
 "cells": [
  {
   "cell_type": "code",
   "execution_count": null,
   "id": "30f1a9ce-82e1-4d4b-be1e-4c4e8e88d0fd",
   "metadata": {},
   "outputs": [],
   "source": [
    "#using intel D435 realsense to display images\n",
    "#output: [depthframe_image, colorframe_image]\n",
    "#last updated: 11/15/2021\n",
    "#build class for esier use\n",
    "#with display, run, stop_thread, restart_thread, stop_camera\n"
   ]
  },
  {
   "cell_type": "code",
   "execution_count": null,
   "id": "550bcb06-8212-4224-930d-d9bfdb6a9583",
   "metadata": {},
   "outputs": [],
   "source": [
    "from class_D435_util import *"
   ]
  },
  {
   "cell_type": "code",
   "execution_count": null,
   "id": "32a22ce8-7775-4bb9-bcff-da072ea1b7fb",
   "metadata": {},
   "outputs": [],
   "source": [
    "camera=Camera()"
   ]
  },
  {
   "cell_type": "code",
   "execution_count": null,
   "id": "c30fac2f-1734-4c52-843d-a6677aaebf27",
   "metadata": {},
   "outputs": [],
   "source": [
    "#define the width and height : camera.display(width,height)\n",
    "camera.display(150,150)"
   ]
  },
  {
   "cell_type": "code",
   "execution_count": null,
   "id": "cc1296dd-3e31-40d9-9519-f5f67e1e4a4c",
   "metadata": {},
   "outputs": [],
   "source": [
    "#run the camera and show the images\n",
    "camera.run()"
   ]
  },
  {
   "cell_type": "code",
   "execution_count": null,
   "id": "35b3d7eb-939b-4584-a9b1-0a93af31151d",
   "metadata": {},
   "outputs": [],
   "source": [
    "#stop the thread but not stop the pineline\n",
    "camera.stop_thread()"
   ]
  },
  {
   "cell_type": "code",
   "execution_count": null,
   "id": "2760b3e7-56da-4193-baf9-3d6d1cc7854b",
   "metadata": {},
   "outputs": [],
   "source": [
    "#restart the camera\n",
    "camera.restart_thread()"
   ]
  },
  {
   "cell_type": "code",
   "execution_count": null,
   "id": "6d0eaba5-4ca7-4d0e-86c0-2dff9d7a01ad",
   "metadata": {},
   "outputs": [],
   "source": [
    "#stop the thread and pineline\n",
    "camera.stop_camera()"
   ]
  },
  {
   "cell_type": "code",
   "execution_count": null,
   "id": "25b4e1bf-c695-4917-b3fc-17e2cf0381cc",
   "metadata": {},
   "outputs": [],
   "source": []
  }
 ],
 "metadata": {
  "kernelspec": {
   "display_name": "Python 3",
   "language": "python",
   "name": "python3"
  },
  "language_info": {
   "codemirror_mode": {
    "name": "ipython",
    "version": 3
   },
   "file_extension": ".py",
   "mimetype": "text/x-python",
   "name": "python",
   "nbconvert_exporter": "python",
   "pygments_lexer": "ipython3",
   "version": "3.6.9"
  }
 },
 "nbformat": 4,
 "nbformat_minor": 5
}
