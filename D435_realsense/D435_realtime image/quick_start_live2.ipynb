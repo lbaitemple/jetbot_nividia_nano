{
 "cells": [
  {
   "cell_type": "markdown",
   "id": "6a9af650",
   "metadata": {
    "cell_style": "center"
   },
   "source": [
    "## Getting Started\n",
    "To prepare the LibRealSense Python environment, follow the steps below:\n",
    "\n",
    "- Download [PyCharm](https://www.jetbrains.com/pycharm/download/#section=windows) integrated development environment\n",
    "- Download [Python 3.7](https://www.python.org/downloads/release/python-3710/) or later \n",
    "- Download [get-pip.py](https://bootstrap.pypa.io/get-pip.py) and run the following commands in PyCharm terminal: \n",
    "    - ***python get-pip.py*** &emsp;&emsp;&emsp;&emsp;&nbsp;Pip tool to install Pip Python package\n",
    "    - ***pip install pyrealsense2*** &emsp;&nbsp;Intel RealSense cross-platform open-source API\n",
    "    - ***pip install numpy*** &emsp;&emsp;&emsp;&emsp;&nbsp;Fundamental package for scientific computing\n",
    "    - ***pip install matplotlib*** &emsp;&emsp;&ensp;&nbsp;2D plotting library producing publication quality figures\n",
    "    - ***pip install opencv-python***&nbsp;&nbsp;OpenCV packages for Python\n",
    "    <br> \n",
    "        some of these packages are not directly used here, but maybe useful in other examples\n"
   ]
  },
  {
   "cell_type": "markdown",
   "id": "810eceef",
   "metadata": {},
   "source": [
    "### This Demo is for users who have RealSense Depth camera. It is tested on Linux and Windows 10.\n",
    "- If you run on Linux, install [udev-rules](https://github.com/IntelRealSense/librealsense/blob/5ff27fca5aaeec4736d6bb3bfb958fee82ee198b/scripts/setup_udev_rules.sh)\n",
    "- No further installation needed if you run on Windows.\n",
    "\n",
    "### The demo will query sensors in the connected device, then it will display depth and color frames using Pipeline API.\n",
    "- Check that the connected device is detected in Device Manager.\n",
    "- The output from each code snippet can be seen under it. You can change the code and try different things and then press the play button to the left of each code snippet to run again. "
   ]
  },
  {
   "cell_type": "code",
   "execution_count": null,
   "id": "a6650a3e",
   "metadata": {
    "scrolled": true
   },
   "outputs": [],
   "source": [
    "import pyrealsense2.pyrealsense2 as rs                 # Intel RealSense cross-platform open-source API\n",
    "import os\n",
    "import numpy as np                        # Fundamental package for scientific computing\n",
    "#import matplotlib.pyplot as plt           # 2D plotting library producing publication quality figures\n",
    "from IPython.display import clear_output  # Clear the screen\n",
    "\n",
    "print(\"Environment is Ready\")"
   ]
  },
  {
   "cell_type": "markdown",
   "id": "a4c0b23b",
   "metadata": {},
   "source": [
    "# Creating a Pipeline\n",
    "\n",
    "The pipeline is a high-level API for streaming and processing frames, abstracting camera configurations and simplifying user interaction with the device and computer vision processing modules. Config is a utility object used by a pipeline."
   ]
  },
  {
   "cell_type": "code",
   "execution_count": null,
   "id": "71410211",
   "metadata": {},
   "outputs": [],
   "source": [
    "pipe = rs.pipeline()                      # Create a pipeline\n",
    "cfg = rs.config()                         # Create a default configuration\n",
    "print(\"Pipeline is created\")"
   ]
  },
  {
   "cell_type": "markdown",
   "id": "40759664",
   "metadata": {},
   "source": [
    "## Find RealSense Devices"
   ]
  },
  {
   "cell_type": "code",
   "execution_count": null,
   "id": "2dc23eb0",
   "metadata": {},
   "outputs": [],
   "source": [
    "print(\"Searching Devices..\")\n",
    "selected_devices = []                     # Store connected device(s)\n",
    "\n",
    "for d in rs.context().devices:\n",
    "    selected_devices.append(d)\n",
    "    print(d.get_info(rs.camera_info.name))\n",
    "if not selected_devices:\n",
    "    print(\"No RealSense device is connected!\")"
   ]
  },
  {
   "cell_type": "markdown",
   "id": "bbea5e98",
   "metadata": {},
   "source": [
    "## Find Depth and RGB Sensors\n",
    "Only RGB and Depth sensors are relevant for this demo."
   ]
  },
  {
   "cell_type": "code",
   "execution_count": null,
   "id": "464b266f",
   "metadata": {},
   "outputs": [],
   "source": [
    "rgb_sensor = depth_sensor = None\n",
    "\n",
    "for device in selected_devices:                         \n",
    "    print(\"Required sensors for device:\", device.get_info(rs.camera_info.name))\n",
    "    for s in device.sensors:                              # Show available sensors in each device\n",
    "        if s.get_info(rs.camera_info.name) == 'RGB Camera':\n",
    "            print(\" - RGB sensor found\")\n",
    "            rgb_sensor = s                                # Set RGB sensor\n",
    "        if s.get_info(rs.camera_info.name) == 'Stereo Module':\n",
    "            depth_sensor = s                              # Set Depth sensor\n",
    "            print(\" - Depth sensor found\")"
   ]
  },
  {
   "cell_type": "markdown",
   "id": "5b077114",
   "metadata": {},
   "source": [
    "## Displaying Depth and Color Frames"
   ]
  },
  {
   "cell_type": "code",
   "execution_count": null,
   "id": "b5512f87",
   "metadata": {},
   "outputs": [],
   "source": [
    "colorizer = rs.colorizer()                                # Mapping depth data into RGB color space\n",
    "profile = pipe.start(cfg)                                 # Configure and start the pipeline\n",
    "import cv2\n",
    "#fig, axs = plt.subplots(nrows=1, ncols=2, figsize=(12,4)) # Show 1 row with 2 columns for Depth and RGB frames\n",
    "#title = [\"Depth Image\", \"RGB Image\"]    # Title for each frame\n",
    "\n",
    "while True:\n",
    "#for _ in range(10):                                       # Skip first frames to give syncer and auto-exposure time to adjust\n",
    "#    frameset = pipe.wait_for_frames()\n",
    "#    print(1)\n",
    "#for _ in range(5):                                        # Increase to display more frames\n",
    "    frameset = pipe.wait_for_frames()                     # Read frames from the file, packaged as a frameset\n",
    "    depth_frame = frameset.get_depth_frame()              # Get depth frame\n",
    "    color_frame = frameset.get_color_frame()              # Get RGB frame\n",
    "\n",
    "    colorized_streams = []                                # This is what we'll actually display\n",
    "    if depth_frame:\n",
    "        colorized_streams.append(np.asanyarray(colorizer.colorize(depth_frame).get_data()))\n",
    "    if color_frame:\n",
    "        colorized_streams.append(np.asanyarray(color_frame.get_data()))\n",
    "    depth_realsense_image.value = bgr8_to_jpeg(colorized_streams[0])\n",
    "    \n",
    "    colorized_streams[1] = cv2.cvtColor(colorized_streams[1], cv2.COLOR_RGB2BGR)\n",
    "    RGB_realsense_image.value = bgr8_to_jpeg(colorized_streams[1])\n",
    "    \n",
    "#    for i, ax in enumerate(axs.flatten()):                # Iterate over all (Depth and RGB) colorized frames\n",
    "#        if i >= len(colorized_streams): continue          # When getting less frames than expected\n",
    "        #plt.sca(ax)                                       # Set the current Axes and Figure\n",
    "        #plt.imshow(colorized_streams[i])# colorized frame to display\n",
    "        # depth_realsense_image.value = bgr8_to_jpeg(colorized_streams[0])\n",
    "        # RGB_realsense_image.value = bgr8_to_jpeg(colorized_streams[1])\n",
    "        #plt.title(title[i])                               # Add title for each subplot\n",
    "    #clear_output(wait=True)                               # Clear any previous frames from the display\n",
    "    #plt.tight_layout()                                    # Adjusts display size to fit frames\n",
    "    #plt.pause(1)                                          # Make the playback slower so it's noticeable\n",
    "    #print(1)\n",
    "    \n",
    "#pipe.stop()                                               # Stop the pipeline\n",
    "#print(\"Done!\")"
   ]
  },
  {
   "cell_type": "code",
   "execution_count": null,
   "id": "2e034302-ae1f-4cac-b473-ab7291e3b137",
   "metadata": {},
   "outputs": [],
   "source": [
    "# print(type(colorized_streams[1]))\n",
    "# print(colorized_streams[1])\n"
   ]
  },
  {
   "cell_type": "code",
   "execution_count": null,
   "id": "e65b6a57-035d-4df8-ad1a-d185be03cbe0",
   "metadata": {},
   "outputs": [],
   "source": [
    "pipe.stop()                                               # Stop the pipeline\n",
    "print(\"Done!\")"
   ]
  },
  {
   "cell_type": "code",
   "execution_count": null,
   "id": "48f631c3-274b-4889-8d4a-b5bceffd7195",
   "metadata": {},
   "outputs": [],
   "source": [
    "pipe.stop()  "
   ]
  },
  {
   "cell_type": "code",
   "execution_count": null,
   "id": "cb37a8ca-c834-4d30-951e-d3153b2e8ce8",
   "metadata": {},
   "outputs": [],
   "source": []
  },
  {
   "cell_type": "code",
   "execution_count": null,
   "id": "697af36c-8d64-4dc1-9a47-92466095b142",
   "metadata": {},
   "outputs": [],
   "source": [
    "from IPython.display import display\n",
    "import ipywidgets.widgets as widgets\n",
    "from jetbot import bgr8_to_jpeg\n",
    "import traitlets\n",
    "import ipywidgets"
   ]
  },
  {
   "cell_type": "code",
   "execution_count": null,
   "id": "719ad179-efb8-44cf-a741-13c03a1f6be9",
   "metadata": {},
   "outputs": [],
   "source": [
    "depth_realsense_image = ipywidgets.Image(format='jpeg', width=224, height=224)\n",
    "RGB_realsense_image = ipywidgets.Image(format='jpeg', width=224, height=224)\n",
    "display(widgets.VBox([\n",
    "    widgets.HBox([depth_realsense_image, RGB_realsense_image]),\n",
    "]))"
   ]
  },
  {
   "cell_type": "code",
   "execution_count": null,
   "id": "3ea3eb21-aaf6-4388-90d3-6fd34e69cb71",
   "metadata": {},
   "outputs": [],
   "source": []
  },
  {
   "cell_type": "code",
   "execution_count": null,
   "id": "7535ac94-7f34-4380-9ae8-17cd52d5fbe9",
   "metadata": {},
   "outputs": [],
   "source": []
  }
 ],
 "metadata": {
  "kernelspec": {
   "display_name": "Python 3",
   "language": "python",
   "name": "python3"
  },
  "language_info": {
   "codemirror_mode": {
    "name": "ipython",
    "version": 3
   },
   "file_extension": ".py",
   "mimetype": "text/x-python",
   "name": "python",
   "nbconvert_exporter": "python",
   "pygments_lexer": "ipython3",
   "version": "3.6.9"
  }
 },
 "nbformat": 4,
 "nbformat_minor": 5
}
